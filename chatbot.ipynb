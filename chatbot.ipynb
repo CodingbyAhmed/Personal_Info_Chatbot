{
  "cells": [
    {
      "cell_type": "code",
      "execution_count": null,
      "metadata": {
        "colab": {
          "base_uri": "https://localhost:8080/"
        },
        "id": "QosDN7NutAWI",
        "outputId": "e96100b4-bb99-46fa-fdee-aa26749574f4"
      },
      "outputs": [
        {
          "output_type": "stream",
          "name": "stdout",
          "text": [
            "Welcome to the Chatbot!\n",
            "You can ask me questions about my personal information. Type 'exit' to leave.\n"
          ]
        }
      ],
      "source": [
        "def main():\n",
        "    print(\"Welcome to the Chatbot!\")\n",
        "\n",
        "    user_info = {\n",
        "        \"name\": \"M.Ahmed\",\n",
        "        \"height\": \"5'4\",\n",
        "        \"location\": \"Karachi\",\n",
        "        \"qualification\": \"Graduation\",\n",
        "        \"course\": \"Python\",\n",
        "        \"car\": \"Yes, I own a car\",\n",
        "        \"mobile\": \"Samsung\",\n",
        "    }\n",
        "\n",
        "    print(\"You can ask me questions about my personal information. Type 'exit' to leave.\")\n",
        "\n",
        "    while True:\n",
        "        user_input = input(\"Ask me a question: \")\n",
        "\n",
        "        if user_input.lower() == 'exit':\n",
        "            print(\"Goodbye!\")\n",
        "            break\n",
        "        elif user_input.lower() in user_info:\n",
        "            print(f\"{user_input.capitalize()}: {user_info[user_input.lower()]}\")\n",
        "        else:\n",
        "            print(\"Error: I can only answer questions about my personal information or 'exit' to leave.\")\n",
        "\n",
        "if __name__ == \"__main__\":\n",
        "    main()"
      ]
    }
  ],
  "metadata": {
    "colab": {
      "provenance": []
    },
    "kernelspec": {
      "display_name": "Python 3",
      "name": "python3"
    },
    "language_info": {
      "name": "python"
    }
  },
  "nbformat": 4,
  "nbformat_minor": 0
}